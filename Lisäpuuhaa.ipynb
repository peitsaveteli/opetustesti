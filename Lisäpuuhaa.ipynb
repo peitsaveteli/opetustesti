{
 "cells": [
  {
   "cell_type": "markdown",
   "metadata": {},
   "source": [
    "# Datasta ja esityksestä"
   ]
  },
  {
   "cell_type": "markdown",
   "metadata": {},
   "source": [
    " "
   ]
  },
  {
   "cell_type": "markdown",
   "metadata": {},
   "source": [
    "Nyt kun ollaan ehditty hieman kokeilemaan datan haltuunottoa ja tutustuttu histogrammiin työkaluna, kokeillaanpa leikkiä aineistoilla vähän lisää."
   ]
  },
  {
   "cell_type": "code",
   "execution_count": null,
   "metadata": {
    "collapsed": true
   },
   "outputs": [],
   "source": [
    "# Haetaan taas aluksi tarvittavat paketit. Pandas on data-analyysiä varten, numpy tieteellistä laskentaa ja\n",
    "# matplotlib.pyplot mahdollistaa kuvaajien piirtämisen. Annetaan näille lyhyemmät nimet (pd, np ja plt),\n",
    "# jotta myöhemmin niitä käytettäessä ei tarvitse kirjoittaa koko paketin nimeä.\n",
    "\n",
    "import pandas as pd\n",
    "import numpy as np\n",
    "import matplotlib.pyplot as plt\n",
    "%matplotlib inline"
   ]
  },
  {
   "cell_type": "markdown",
   "metadata": {},
   "source": [
    "### Tulkinnasta"
   ]
  },
  {
   "cell_type": "markdown",
   "metadata": {},
   "source": [
    "Vanha sanonta väittää, ettei mikään valehtele niinkuin tilasto. Tässä on tiettyä totuutta, sillä valittu esitystapa saattaa hyvinkin pyrkiä harhauttamaan lukijaansa tai painottamaan asioita, joita aineistosta ei voida suoraan sanoa. Yksi viimevuosien esimerkki kotimaassa olisi valtionvarainministeriön työttömien ja avoimien työpaikkojen määrää kuvaava [kaavio](https://i0.wp.com/informaatiomuotoilu.fi/wp-content/uploads/2017/02/VM-ty%C3%B6llisyysgrafiikka.png), jonka kahdet akselit voisi esittää myös samassa [mittakaavassa](https://i0.wp.com/informaatiomuotoilu.fi/wp-content/uploads/2017/02/Antti-Yrj%C3%B6sen-laatima-versio.jpeg).\n",
    "\n",
    "Katsotaanpa toista tilannetta, joka käsittelee myonitörmäyksiä."
   ]
  },
  {
   "cell_type": "code",
   "execution_count": null,
   "metadata": {
    "collapsed": true
   },
   "outputs": [],
   "source": [
    "# Haetaan taas tietokoneen muistiin aineistoa ja nimetään se 'datasetiksi'.\n",
    "\n",
    "datasetti = pd.read_csv('Dimuon_Doublemu.csv')"
   ]
  },
  {
   "cell_type": "code",
   "execution_count": null,
   "metadata": {
    "collapsed": true
   },
   "outputs": [],
   "source": [
    "# Kirjoita tähän komento, jolla näet mitä 'datasetti' sisältää (ts. katso sen ensimmäisiä rivejä).\n"
   ]
  },
  {
   "cell_type": "code",
   "execution_count": null,
   "metadata": {
    "collapsed": true
   },
   "outputs": [],
   "source": [
    "# Leikataan tästä päädatasta taas suurin osa pois, koska tarkastelemme jälleen havaittujen hiukkasten\n",
    "# massaa ja liiketiloja vastaavaa invariantia massaa.\n",
    "\n",
    "invariantti_massa = datasetti['M']\n",
    "\n",
    "# Piirretääs histogrammi.\n",
    "\n",
    "plt.hist(invariantti_massa, bins=50, range=(0,300))\n",
    "\n",
    "plt.xlabel('Invariantti massa [GeV]')\n",
    "#plt.ylabel('Tapahtumien lukumäärä')\n",
    "plt.ylabel('Olenkohan ihan oikein?')\n",
    "plt.title('Kahden myonin invariantin massan histogrammi \\n')\n",
    "\n",
    "plt.show()"
   ]
  },
  {
   "cell_type": "markdown",
   "metadata": {},
   "source": [
    "Ajettuasi äskeisen koodinpätkän, katso tuottamaasi kuvaajaa ja aja se uudelleen niin, että kuvaaja näyttää kiinnostavat asiat eikä pelkkää turhaa tyhjyyttä (säädä siis rajoja). Onkohan kuvaajassa muuten kaikki kohdillaan vai pitäisikö jotain muutakin korjata koodista?"
   ]
  },
  {
   "cell_type": "markdown",
   "metadata": {},
   "source": [
    "Fysikaalisesti kiinnostavaa on, että tässä aineistossa tutkitaan nyt tilanteita, joissa havaitaan kaksi myonia siten, että niillä on vastakkaiset sähköiset varaukset ja ainakin toinen niistä on koetilanteessa varmistettu useammalla mittalaitteella tosiaankin myoniksi. Datassa on silti paljon kohinaa, nimittäin käytännössä kaikki alle 50 GeV:iä vastaavat havainnot johtuvat taustatapahtumista eivätkä ole tässä yhteydessä kiinnostavia. Tällainen teoriapohjalta nouseva katkaiseminen on hyvin yleistä tutkimustöissä, kuten on myös mittalaitteistoihin liittyvä havaitun signaalin ja kohinan suhteen pohtiminenkin."
   ]
  },
  {
   "cell_type": "markdown",
   "metadata": {},
   "source": [
    "Tarkastellaan sitä kiinnostavampaa pätkää seuraavaksi: jossain 90 GeV:in kieppeillä näkyy piikki. Histogrammin koodissa voidaan asettaa range vaikkapa rajoihin (80,100). Kokeilehan yllä."
   ]
  },
  {
   "cell_type": "code",
   "execution_count": null,
   "metadata": {
    "collapsed": true
   },
   "outputs": [],
   "source": [
    "# Tehdään sitten taas yksi leikkaus. Napataan uusiin muuttujiin alkuperäisestä datasta \n",
    "# havaittujen hiukkasparien energian mukaan joko korkeaenergiset parit (E >= 150 GeV) \n",
    "# tai matalaenergiset parit (E < 150 GeV).\n",
    "\n",
    "uusiSettiKorkeaE = datasetti[datasetti.E1+datasetti.E2>150]\n",
    "uusiSettiMatalaE = datasetti[datasetti.E1+datasetti.E2<150]\n",
    "\n",
    "# Mieti mitä yllä olevilla riveillä tapahtuu, miten ne vertautuvat datasetti.head()-komennon näyttämiin riveihin?"
   ]
  },
  {
   "cell_type": "markdown",
   "metadata": {},
   "source": [
    "Tehdääs taas kaksi kuvaajaa samaan kuvaan, nyt alpha-muuttujan avulla läpinäkyvinä."
   ]
  },
  {
   "cell_type": "code",
   "execution_count": null,
   "metadata": {
    "collapsed": true
   },
   "outputs": [],
   "source": [
    "plt.xlabel('Invariantti massa [GeV]')\n",
    "plt.ylabel('Tapahtumien lukumäärä')\n",
    "plt.title('Kahden myonin invariantti massa, vertailu energian perusteella \\n')\n",
    "plt.hist(uusiSettiMatalaE ['M'], bins=50, range=(80,100), alpha=0.5, label='Matala E')\n",
    "plt.hist(uusiSettiKorkeaE ['M'], bins=50, range=(80,100), alpha=0.5, label='Korkea E')\n",
    "plt.legend (loc='upper right')\n",
    "plt.show()"
   ]
  },
  {
   "cell_type": "markdown",
   "metadata": {},
   "source": [
    "Ajettuasi äskeisen, mieti nyt hetki tarkkaan: mitä tuo kuvaaja kertoo? Onko kuvaajien muodoissa jotain samaa? Onko niissä jotain eroja? Uskoisitko erojen liittyvän johonkin fysikaaliseen tekijään, kuten suotuisten tapahtumien yleisyyteen matalaenergisissä tilanteissa?\n",
    "\n",
    "Muistellaas, mitä [histogrammi](https://fi.wikipedia.org/wiki/Histogrammi) kuvasikaan: havaittujen tapahtumien määrää kunkin tuloksen kohdalla. Miten tämä saattaisi näkyä tilanteessa, jossa kuvaajan aineistot eivät ehkä olisikaan tasaveroiset?"
   ]
  },
  {
   "cell_type": "code",
   "execution_count": null,
   "metadata": {
    "collapsed": true
   },
   "outputs": [],
   "source": [
    "# Kirjoita tähän komento, kuten .shape tai len(), jolla voit selvittää äskeisten aineistojen koon.\n",
    "\n",
    "# Ovatko matalan ja korkean energian joukot yhtä suuret?"
   ]
  },
  {
   "cell_type": "markdown",
   "metadata": {},
   "source": [
    "Kokeilepa muuttaa rajan paikkaa, miten histogrammit muuttuvat?\n",
    "\n",
    "Kuten huomaat, jossain kohtaamasi kuvaaja ei välttämättä ole niin yksinkertainen tulkita kuin sen tekijä saattaisi haluta sinun luulevan. Jos et tiedä tai näe sen takana olevaa aineistoa, esimerkiksi histogrammi saattaa olla suoraan vertailuun joskus melko huonokin työkalu!"
   ]
  },
  {
   "cell_type": "markdown",
   "metadata": {},
   "source": [
    "## Tähdet tähdet"
   ]
  },
  {
   "cell_type": "markdown",
   "metadata": {},
   "source": [
    "Tarkastellaan vielä erästä suurta tähtikatalogia."
   ]
  },
  {
   "cell_type": "code",
   "execution_count": null,
   "metadata": {
    "collapsed": true
   },
   "outputs": [],
   "source": [
    "data = pd.read_csv(\"https://github.com/adamlamee/CODINGinK12-data/raw/master/stars.csv\")"
   ]
  },
  {
   "cell_type": "code",
   "execution_count": null,
   "metadata": {
    "collapsed": true
   },
   "outputs": [],
   "source": [
    "data.head()"
   ]
  },
  {
   "cell_type": "markdown",
   "metadata": {},
   "source": [
    "Rakennetaan tähtien paikkaa taivaalla esittävä kuvaaja, mutta sen nimet ovat kadonneet johonkin. Katsohan datasta\n",
    "vaikka äskeisellä .head()-komennolla, mitenkähän päin akselit voisivat olla jos tiedetään, että tähtitieteessä\n",
    "tärkeimpiin koordinaatteihin taivaalla kuuluvat [deklinaatio](https://www.ursa.fi/extra/kosmos/r/rektaskensio.html) ja [rektaskensio](https://fi.wikipedia.org/wiki/Rektaskensio)."
   ]
  },
  {
   "cell_type": "code",
   "execution_count": null,
   "metadata": {
    "collapsed": true
   },
   "outputs": [],
   "source": [
    "\n",
    "fig = plt.figure(figsize=(15, 4))\n",
    "plt.scatter(data.ra,data.dec, s=0.01)\n",
    "plt.xlim(24, 0)\n",
    "plt.title(\"Otsikko olisi kiva\")\n",
    "plt.xlabel('Tarvitsen nimen')\n",
    "plt.ylabel('Akseloin, siis olen')\n",
    "\n",
    "# Näetkö muotoja kuvassa? Mistä moiset voisivat johtua?"
   ]
  },
  {
   "cell_type": "markdown",
   "metadata": {},
   "source": [
    "Tähtiä luokitellaan usein lämpötilansa ja kirkkautensa mukaan, siten että kirkkaammilla tähdillä on pienempi *absoluuttinen magnitudi*. Auringolla se on noin 4,8."
   ]
  },
  {
   "cell_type": "code",
   "execution_count": null,
   "metadata": {
    "collapsed": true
   },
   "outputs": [],
   "source": [
    "# Muotoillaan graafin pisteitä vähän niin, että ne näkyvät mukavasti.\n",
    "\n",
    "transparency = 0.2\n",
    "size = 1\n",
    "\n",
    "# Piirretään taas x,y-parien mukainen kuvaaja.\n",
    "\n",
    "plt.scatter(data.temp, data.absmag, s=size, edgecolors='none', alpha=transparency)\n",
    "plt.xlim(2000,15000)\n",
    "plt.ylim(20,-15)\n",
    "plt.title(\"Keksipäs tähän kiva otsikko\")\n",
    "plt.ylabel(\"Absoluuttinen magnitudi\")\n",
    "plt.xlabel(\"Pintalämpötila (K)\")"
   ]
  },
  {
   "cell_type": "markdown",
   "metadata": {},
   "source": [
    "Painottuvatko tulokset jonnekin? Erottuvatko jotkin alueet muusta massasta? Löydätkö kuvasta kirkkaan, muttei erityisen lämpimän alueen (jättiläisiä)? Erityisen kuuman ja kirkkaan, mutta pienistä tähdistä koostuvan valkoisten kääpiöiden alueen?"
   ]
  },
  {
   "cell_type": "code",
   "execution_count": 1,
   "metadata": {
    "collapsed": true
   },
   "outputs": [],
   "source": [
    "# Tämä tuottaa listan lyhenteitä, jotka vastaavat tähdistöjen nimiä.\n",
    "\n",
    "data.sort_values('con').con.unique()"
   ]
  },
  {
   "cell_type": "code",
   "execution_count": null,
   "metadata": {
    "collapsed": true
   },
   "outputs": [],
   "source": [
    "# Tämä näyttää yhden tähdistön, kokeilepa vaihdella sitä!\n",
    "# Komento .query('...') antaa etsiä tietyntyyppistä dataa koko aineistosta ja onkin melko näppärä siinä.\n",
    "\n",
    "constellation = data.query('con == \"Sex\"')\n",
    "\n",
    "plt.close('all')\n",
    "fig = plt.figure(figsize=(12, 4))\n",
    "plt.subplot(1, 2, 1)\n",
    "\n",
    "# Tällä saat näkyviin kyseisen tähdistön 10 kirkkainta. Mitäs jos .headin arvoa muuttaisi?\n",
    "\n",
    "constellation = constellation.sort_values('mag').head(10)\n",
    "plt.scatter(constellation.ra,constellation.dec)\n",
    "plt.gca().invert_xaxis()\n",
    "plt.title(\"Tähdistön kuva taivaalla\")\n",
    "plt.xlabel('rektaskensio')\n",
    "plt.ylabel('deklinaatio')\n",
    "\n",
    "plt.subplot(1, 2, 2)\n",
    "\n",
    "\n",
    "# Muotoillaan taas näytettäviä pisteitä.\n",
    "\n",
    "transparency = 0.2\n",
    "size = 1\n",
    "\n",
    "# Okei, mutta mites nämä suhtautuvat koko käsiteltyyn aineistoon? Nyt lyödäänkin yhden tähdistön kirkkaimmat\n",
    "# pisteet koko kartalle näkyviin.\n",
    "\n",
    "plt.scatter(data.temp, data.absmag, s=size, edgecolors='none', alpha=transparency)\n",
    "plt.scatter(constellation.temp, constellation.absmag, color='red', edgecolors='none')\n",
    "plt.xlim(2000,15000)\n",
    "plt.ylim(20,-15)\n",
    "plt.title(\"Eri tyyppiset tähdet tähdistössä\")\n",
    "plt.ylabel(\"Absoluuttinen magnitudi\")\n",
    "plt.xlabel(\"Lämpötila (K)\")\n",
    "plt.show()"
   ]
  },
  {
   "cell_type": "markdown",
   "metadata": {},
   "source": [
    "Jos vertaat saamaasi kuvaa tähän yleisesti tähtiä kuvaavaan karttaan, millaisia tähtiä kukin tähdistö sisältää?\n",
    "\n",
    "![](https://github.com/adamlamee/CODINGinK12-data/raw/master/H-R-diagram.jpeg)"
   ]
  },
  {
   "cell_type": "markdown",
   "metadata": {},
   "source": [
    " "
   ]
  },
  {
   "cell_type": "markdown",
   "metadata": {},
   "source": [
    "## Kiitoksia!\n",
    "\n",
    "Täytäthän vielä [tämän](https://docs.google.com/forms/d/e/1FAIpQLSfP2P7Fh1jcu-mFWV2EbU8uurnbBLIKBmDBN3b1t613vx-peg/viewform?usp=sf_link) kyselyn, jotta voimme kehittää Notebook-työkalujamme yhä paremmiksi."
   ]
  }
 ],
 "metadata": {
  "kernelspec": {
   "display_name": "Python 3",
   "language": "python",
   "name": "python3"
  },
  "language_info": {
   "codemirror_mode": {
    "name": "ipython",
    "version": 3
   },
   "file_extension": ".py",
   "mimetype": "text/x-python",
   "name": "python",
   "nbconvert_exporter": "python",
   "pygments_lexer": "ipython3",
   "version": "3.6.3"
  }
 },
 "nbformat": 4,
 "nbformat_minor": 2
}

{
 "cells": [
  {
   "cell_type": "markdown",
   "metadata": {
    "collapsed": true
   },
   "source": [
    "# Tiedettä tekemässä: isojen mittausten äärellä\n"
   ]
  },
  {
   "cell_type": "markdown",
   "metadata": {},
   "source": [
    " "
   ]
  },
  {
   "cell_type": "markdown",
   "metadata": {},
   "source": [
    "Kuten olet varmaan huomannut, sana \"data\" esiintyy nykymaailmassa vähän joka paikassa, niin koulussa kuin vaikka kotona nettiä selaillessakin. Lauseet kuten \"Google kerää käyttäjädataa\", \"ilmastotieteilijöiden keräämän datan mukaan\" tai \"Heartbleed-datavuoto aiheutti suuren riskin erinäisten palvelujen käyttäjille\" ovat nykyään uutisoinnin arkipäivää.\n",
    "\n",
    "Mutta mitä on data, erityisesti nyttemmin esiin noussut Big Data? Mistä kaikkialta sitä tulee, miksi sitä kerätään ja miten sitä käytetään? "
   ]
  },
  {
   "cell_type": "markdown",
   "metadata": {},
   "source": [
    "<img src=\"https://lh3.googleusercontent.com/SPPaTJUYenbLYZTuwIJw7a08nz55YDANDkXE1mqYtveXgkh3PwvEO5o9Wa14ctwiwIIWlhLQFBQeWJpFBOiwATxJJnuRtrnnP4ZckW8wFtSTJDL6EmewLZSbQwkpr6IRmSEZJqoABKYQrQIRtRnriiU5fOoSOUXaMeSIP_SO3fLlzrr2P4FKEGvd_H_aprTFv1xcOKVSIXnLKTdnQB0sRFeJxLjHroRoEpZNz6gXkK-RaWiSi0rbioWMMCdLpaFqHnJyr1H8QWriBIm7a5qI7s36GH5Ddzvic5IFA0mtts-Ln7vc2NyBrs5p6KDNxyHnQtIWl5dtKLg6IgrdqUq5ga80oQhT3rrvLOXss75dfguK46WlQq1Et2vzOoWgiHqVfnHWhOWJ213BF_IXkeEUufPWmXCHuEn3JLxPiDUX5hT772V_J4jm06hKHQ7X6dVhy-LPvTbbOVoJ3GPsyo_s89IRl-fp2wOmylSUgky-p3vbLJiKI2vfwuSlEfPCfs-MXqVPEwnAbwz9RyY5VNfSpiYFQ6QUZAwUC8oI6qUh88EYLFx1RDdiQTdka0XmGcJBfoioQuYQaz3Ec-KERF32BkOGFZsXcHX8MggoBJ4=w671-h546-no\" width=\"700px\">\n",
    "\n",
    "(Kuva muokattu artikkelista https://www.wired.com/2013/04/bigdata/)"
   ]
  },
  {
   "cell_type": "markdown",
   "metadata": {},
   "source": [
    "Kun muistetaan terabitin olevan noin 1000 gigabittiä, puhutaan valtavista määristä tietoa. Tätä tietoa kerätään eri muodoissa, sekä tarkoituksella että tarkoituksetta. Luonnontieteellisten kysymysten äärellä asioita mittaillaan useimmiten yritettäessä joko luokitella ympäröivää luontoa (eläinpopulaatioiden koot, peltoalueiden vuosituotannot...) tai etsittäessä vastauksia kiinnostaviin ongelmiin (missä ilmaston lämpeneminen näkyy pahiten, minne ihmiselimistössä kertyy vaarallisia aineita, mitä tapahtuu atomitason hiukkastörmäyksissä ja mitä niistä syntyy)."
   ]
  },
  {
   "cell_type": "markdown",
   "metadata": {},
   "source": [
    "## Data ja sen jako"
   ]
  },
  {
   "cell_type": "markdown",
   "metadata": {},
   "source": [
    " "
   ]
  },
  {
   "cell_type": "markdown",
   "metadata": {},
   "source": [
    "Suuri osa ihmiskunnan tuottamasta datasta on luonteeltaan salattua, se kun sisältää yritysten liikesalaisuuksia, valtioiden turvallisuusanalyysejä tai muita tekijöitä, joita ei välttämättä haluta näyttää ihan kaikille. Tiedeyhteisön tapauksessa on ideaalitilanteessa toisin: erityisesti luonnontieteissä oltaisiin parhaassa mahdollisessa maailmassa, mikäli tutkimukset voitaisiin jakaa suoraan ympäri maailmaa mahdollisimman monien nähtäville arvioitaviksi ja toistettaviksi, jotta nähtäisiin onko tuloksissa ja päätelmissä puutteita. Tämä ei aina toteudu, kuten vaikkapa lääkeyhtiöiden kohdennetun tutkimuksen jäädessä salaisuudeksi. Suljetuissa julkaisuissa hukataan kiinnostavia sivupolkuja, jotka laaja perustutkimus olisi voinut avata.\n",
    "\n",
    "Avoimesti saatavilla olevaa dataa on kuitenkin paljon ja tässä harjoitteessa lähdetään tutustumaan hieman siihen, miten sitä voisi hyödyntää niin fysiikassa kuin muussakin elämässä. Harjoitteessa käytetään vähän ohjelmointia, kuten oikeassakin tieteellisessä laskennassa, mutta ei mitään hätää jos Python ei ole aiemmin tuttua. Tässähän sitä oppii!"
   ]
  },
  {
   "cell_type": "markdown",
   "metadata": {},
   "source": [
    "## CERN, LHC ja hiukkastutkimus"
   ]
  },
  {
   "cell_type": "markdown",
   "metadata": {},
   "source": [
    "Alustetaan ensin vähän tietokonettamme valikoimalla sille käyttöön muutama Pythonin tarvitsema paketti. Huomaa, että kukin koodinpätkä on tässä Notebookissa omana solunaan, jonka saat ajettua valitsemalla sen hiirellä ja painamalla Ctrl+Enter. Kun vieressä olevassa In [ ] -kohdassa näkyy * , koodia ajetaan. Jos siinä näkyy numero, solu on ajettu.\n",
    "\n",
    "Aja soluja mieluiten ensin järjestyksessä, jotta tietokone ymmärtää muuttujat oikein. Sen jälkeen voit alkaa vapaasti leikkimään ja kokeilemaan mitä koodilla saakaan aikaan. Jos kuitenkin saat notebookin jotenkin solmuun, paina yläriviltä \"Kernel\"-valikosta Restart & Clear Output, joka pyyhkii muutokset."
   ]
  },
  {
   "cell_type": "code",
   "execution_count": null,
   "metadata": {
    "collapsed": true
   },
   "outputs": [],
   "source": [
    "# Olen kommentti! Risuaitamerkeillä ja kommenteilla koodin saa paljon helppolukuisemmaksi.\n",
    "\n",
    "# Haetaan tarvittavat paketit. Pandas on data-analyysiä varten, numpy tieteellistä laskentaa ja\n",
    "# matplotlib.pyplot mahdollistaa kuvaajien piirtämisen. Annetaan näille lyhyemmät nimet (pd, np ja plt),\n",
    "# jotta myöhemmin niitä käytettäessä ei tarvitse kirjoittaa koko paketin nimeä.\n",
    "\n",
    "import pandas as pd\n",
    "import numpy as np\n",
    "import matplotlib.pyplot as plt\n",
    "%matplotlib inline"
   ]
  },
  {
   "cell_type": "markdown",
   "metadata": {},
   "source": [
    "CERN:in suurella koelaitteistolla, Large Hadron Colliderilla, päästään tutkimaan aineen perusluonnetta ja alkeishiukkasia paremmin kuin missään muualla maapallolla. Tutkijat keräävät miljardeja mittaustuloksia hiukkastörmäyksistä ja analysoivat näitä selvittääkseen, mitä niissä oikein tapahtuikaan.\n",
    "\n",
    "[Kurkista törmäykseen tällä 3D-mallilla!](http://opendata.web.cern.ch/visualise/events/cms#)\n",
    "\n",
    "Yksi koeasema LHC:n yhteydessä, CMS (Compact Muon Solenoid), julkaisee suuria määriä dataa avoimeen jakoon ([kuten nämä](http://opendata.web.cern.ch/record/545)). Tutkitaan tässä yhtä sellaista settiä."
   ]
  },
  {
   "cell_type": "code",
   "execution_count": null,
   "metadata": {},
   "outputs": [],
   "source": [
    "# Luodaan uusi taulukko CMS:n mittausdataa sisältävästä tiedostosta \"Zmumu_2011A.csv\" ja annetaan sen nimeksi 'datasetti'.\n",
    "\n",
    "datasetti = pd.read_csv('Zmumu_2011A.csv')"
   ]
  },
  {
   "cell_type": "markdown",
   "metadata": {},
   "source": [
    "CSV (Comma Separated Values) on hyvin yksinkertainen tapa esittää isoja määriä tietoja: paljon mittapisteitä tekstimuotoon kirjattuina, yleensä pilkulla erotettuina. Kun tietoa on paljon, on tällaisen lukeminen käsin kuitenkin jokseenkin turhauttavaa, joten otetaan tietokone apuun."
   ]
  },
  {
   "cell_type": "code",
   "execution_count": null,
   "metadata": {
    "collapsed": true
   },
   "outputs": [],
   "source": [
    "# Katsotaas millaista tietoa luomassamme datasetissä on.\n",
    "\n",
    "datasetti.head()\n",
    "\n",
    "# Kokeilepa laittaa sulkuihin numero. Millainen numeron on oltava ja miksi, käykö esimerkiksi desimaaliluku?"
   ]
  },
  {
   "cell_type": "code",
   "execution_count": null,
   "metadata": {
    "collapsed": true
   },
   "outputs": [],
   "source": [
    "# Jotta saadaan vähän parempi kuva käsitellyn datan määrästä, tarkistetaas montako rivejä kokonaisuudessaan on.\n",
    "\n",
    "len(datasetti)"
   ]
  },
  {
   "cell_type": "markdown",
   "metadata": {},
   "source": [
    "Aina ei ole kuitenkaan tarpeen tarkastella ihan kaikkea koetilanteesta muistiin kirjattua.\n",
    "\n",
    "Tässä datasetissä esimerkiksi tarkastellaan vain tapauksia, joissa törmäyksestä havainnoidaan kaksi tarpeeksi suurenergistä [myonia](https://fi.wikipedia.org/wiki/Myoni), jotka saattaisivat viitata syntymällään yhteen raskaampaan hiukkaseen. Fysiikassa on joukko tärkeitä säilymislakeja, kuten vaikkapa liikemäärän tai energian säilyminen. Tässä käsitellään niin kutsuttua [*invarianttia massaa, **M***](https://en.wikipedia.org/wiki/Invariant_mass), joka säilyy hyvin pienelläkin skaalalla, mutta on varsinaisesta fysikaalisesta massasta eroava matemaattinen käsite. Yksinkertaistettuna se ottaa suhteellisuusteorian mukaisesti huomioon myös hiukkasten suunnat ja nopeudet ja sen avulla voidaan selvittää, onko tietyissä kohdissa havainnoitujen kevyempien hiukkasten syntyminen kenties johtunut jonkun raskaammaan hiukkasen hajoamisesta. Tämä on hyödyllistä sikäli, että monet tällaiset raskaammat hiukkaset ovat niin lyhytikäisiä, ettei niitä sellaisinaan ehditä juuri havainnoimaan, mutta niiden olemassaolon kokeellinen varmistaminen on äärimmäisen tärkeää koko todellisuuden rakenteita kuvaavien teorioiden kannalta.\n",
    "\n",
    "Tällainen *epäsuora havainnointi* on fysiikan tutkimuksessa hyvin yleistä ja tärkeää, esimerkiksi avaruustutkimuksessa havainnoitaessa kaukaisten kohteiden spektrejä."
   ]
  },
  {
   "cell_type": "code",
   "execution_count": null,
   "metadata": {
    "collapsed": true
   },
   "outputs": [],
   "source": [
    "# Lasketaan nyt aiemmasta datasta invariantti massa kullekin tapahtumalle.\n",
    "\n",
    "invariantti_massa = np.sqrt(2*datasetti.pt1*datasetti.pt2*(np.cosh(datasetti.eta1-datasetti.eta2) - np.cos(datasetti.phi1-datasetti.phi2)))\n",
    "\n",
    "# Kirjoitapa tähän head-komento nähdäksesi miltä tulos näyttää ja tarkista len-komennolla, montako mittapistettä tässä uudessa muuttujassa on. "
   ]
  },
  {
   "cell_type": "code",
   "execution_count": null,
   "metadata": {
    "collapsed": true
   },
   "outputs": [],
   "source": [
    "# Luodaan tyhjä taulukko 'valitut', johon tullaan tallentamaan valittu määrä invariantin massan arvoja.\n",
    "# Tietokone on vähän tällainen, sille pitää kertoa että jokin on olemassa tai se ei usko.\n",
    "\n",
    "valitut = []"
   ]
  },
  {
   "cell_type": "markdown",
   "metadata": {},
   "source": [
    "Yksi monikäyttöinen ja vahva työkalu tutkijoille on [histogrammi](https://fi.wikipedia.org/wiki/Histogrammi). Yksinkertaisimmillaan se kertoo montako kertaa jokin tulos esiintyy, kun tarkastellaan joukkoa tapahtumia. Kun joukko on suuri, kuten tässä meillä nyt on, tai vaikkapa kuvatessa valtion miljoonien asukkaiden pituutta se olisi, on näppärää antaa tietokoneen käsitellä data käsin piirtämisen sijaan.\n"
   ]
  },
  {
   "cell_type": "code",
   "execution_count": null,
   "metadata": {
    "collapsed": true
   },
   "outputs": [],
   "source": [
    "# Suoritetaan histogrammin piirtäminen pyplot-moduulin avulla:\n",
    "\n",
    "plt.hist(invariantti_massa, bins=100, range=(80,100))\n",
    "\n",
    "# Näillä riveillä ainoastaan määritellään otsikko sekä akseleiden tekstit.\n",
    "\n",
    "plt.xlabel('Invariantti massa [GeV/c²]')\n",
    "plt.ylabel('Tapahtumien lukumäärä')\n",
    "plt.title('Kahden myonin invariantin massan histogrammi \\n') # \\n luo uuden rivin otsikon muotoilua varten\n",
    "\n",
    "# Tehdään kuvaaja näkyväksi.\n",
    "\n",
    "plt.show()\n",
    "\n",
    "# Aja koodi useampaan kertaan:\n",
    "# Mitä tapahtuu, jos muutat binien määrää? Mitä bins määrittää? Mikä on mielestäsi paras arvo?\n",
    "# Entä range? Mitä käy, jos otat rangen määritelmän kokonaan pois? "
   ]
  },
  {
   "cell_type": "markdown",
   "metadata": {},
   "source": [
    "Mitä tulos mielestäsi osoittaa? Miten luotettavaksi arvioisit näkemäsi?\n",
    "\n",
    "Ja jos vilkaiset sitten [tänne](https://fi.wikipedia.org/wiki/W-_ja_Z-bosonit), mitä voisit sanoa havaitusta massasta?"
   ]
  },
  {
   "cell_type": "markdown",
   "metadata": {},
   "source": [
    "Kokeillaan sitten samaa, mutta niin että vaihdellaan tarkasteltavien mittauspisteiden määrää. Tieteenteossa yleinen nyrkkisääntö on, että mitä enemmän mittapisteitä otat, sitä paremmin oikeasti luonnossa vallitsevat riippuvaisuudet alkavat nousemaan esiin taustakohinan seasta."
   ]
  },
  {
   "cell_type": "code",
   "execution_count": null,
   "metadata": {
    "collapsed": true
   },
   "outputs": [],
   "source": [
    "# Pyydetään käyttäjältä tapahtumien määrä ja tallennetaan sen muuttujaan 'lkm'.\n",
    "# Koodi vaatii toimiakseen kokonaislukusyötteen (integer)\n",
    "\n",
    "lkm = int(input('Syötä haluttu tapahtumien määrä: '))\n",
    "\n",
    "# Luodaan if-silmukka, joka tutkii syötettyä tapahtumien määrää eli muuttujan 'lkm' arvoa.\n",
    "\n",
    "if lkm > len(invariantti_massa):\n",
    "    print('''\\n Datan määrä on valittu suuremmaksi kuin mitä dataa on saatavilla, joten pyytämääsi\n",
    " histogrammia ei voitu piirtää. Maksimiarvo datan määrälle on %i.''' % len(invariantti_massa))\n",
    "\n",
    "else:    \n",
    "    for f in range(lkm):\n",
    "        M = invariantti_massa[f]\n",
    "        valitut.append(M)\n",
    "    print('\\n Valitsit koko datasta %i arvoa invariantille massalle.' %(lkm))\n",
    "\n",
    "# Käytetään numpy-paketin histogram-funktiota, ja luodaan histogrammi valituista invarianteista massoista.\n",
    "# Nimetään histogrammi \"histogrammi1\":ksi.\n",
    "\n",
    "histogrammi1 = np.histogram(valitut, bins=120, range=(60,120))\n",
    "\n",
    "\n",
    "# Mitä tapahtuu, jos muutat yllä olevia binien ja rangen arvoja?\n",
    "\n",
    "\n",
    "# Valmistellaan histogrammin piirtoa.\n",
    "# Määritetään histogrammin palkkien leveys sekä histogrammin keskikohta.\n",
    "\n",
    "hist1, bins1 = histogrammi1\n",
    "width1 = 1.0*(bins1[1] - bins1[0])\n",
    "center1 = (bins1[:-1] + bins1[1:])/2\n",
    "\n",
    "# Piirretään histogrammi matplotlib.pyplotin avulla.\n",
    "\n",
    "plt.bar(center1, hist1, align='center', width=width1)\n",
    "\n",
    "# Nimetään x- ja y-akselit sekä annetaan histogrammille otsikko.\n",
    "\n",
    "plt.xlabel('Invariantti massa [GeV/c²]')\n",
    "plt.ylabel('Tapahtumien lukumäärä pylvästä kohti', fontsize=10)\n",
    "plt.title('Invariantin massan histogrammi kahdelle myonille\\n', fontsize=15)\n",
    "\n",
    "# Asetetaan y-akseli vakioksi välille 0-800.\n",
    "\n",
    "axes = plt.gca()\n",
    "axes.set_ylim([0,800])\n",
    "\n",
    "\n",
    "# Kokeile muuttaa y-akselin näytettävää väliä. Mitä tapahtuu, jos et määrittele sitä lainkaan?\n",
    "# Voit kokeilla kommentoimalla koodirivin #-merkin avulla.\n",
    "\n",
    "# Miten saat muutettua x-akselin väliä? Mistä nykyinen väli tulee?\n",
    "\n",
    "\n",
    "# Nollataan lopuksi valitut arvot uutta valintaa varten.\n",
    "\n",
    "valitut = []"
   ]
  },
  {
   "cell_type": "markdown",
   "metadata": {},
   "source": [
    "Hienoa, olet nyt tehnyt oikeaa tutkimusta ja löytänyt järjestystä tuhansien mittausten kaaoksesta!"
   ]
  },
  {
   "cell_type": "markdown",
   "metadata": {},
   "source": [
    " "
   ]
  },
  {
   "cell_type": "markdown",
   "metadata": {},
   "source": [
    "## Kuin vuorovettä vain"
   ]
  },
  {
   "cell_type": "markdown",
   "metadata": {},
   "source": [
    "Mitä jos kokeilisit soveltaa äsken opittuja hitusen eri kontekstiin? Otetaan käsiteltäväksi Australialaisen Mornington Islandin vedenkorkeustilastot vuosilta 2011-2015."
   ]
  },
  {
   "cell_type": "code",
   "execution_count": null,
   "metadata": {
    "collapsed": true
   },
   "outputs": [],
   "source": [
    "# Tähän tulee nyt uusi setti tietoja, ensin raa'asti kaikki tiedot.\n",
    "\n",
    "data = pd.read_csv(\"https://github.com/adamlamee/CODINGinK12-data/raw/master/tides.csv\", names = [\"rawData\"])\n",
    "\n",
    "# Tässä nimetään tiettyjä osia tiedoista.\n",
    "\n",
    "data['height'] = data.rawData.str[13:].astype(float)\n",
    "data['rawTime'] = data.rawData.str[:12]\n",
    "\n",
    "# Tässä muutetaan mitattu aika kalenteripäiviksi, joskin englanniksi.\n",
    "\n",
    "dates = pd.to_datetime(data.rawTime.tolist(), format='%d%m%Y%H%M')\n",
    "\n",
    "# Ja tässä tehdään lopulta haluttu datasettimme 'aallot'. \n",
    "\n",
    "aallot = pd.Series(data.iloc[:,1].tolist(), dates)"
   ]
  },
  {
   "cell_type": "code",
   "execution_count": null,
   "metadata": {
    "collapsed": true
   },
   "outputs": [],
   "source": [
    "# Kirjoita tähän komento, jolla saat muuttujan 'aallot' ensimmäiset rivit näkyviin.\n",
    "# Mitä taulukkoon on kirjattu? Millä mittausvälillä?"
   ]
  },
  {
   "cell_type": "code",
   "execution_count": null,
   "metadata": {
    "collapsed": true
   },
   "outputs": [],
   "source": [
    "# Toinen kiintoisa komento on shape, joka kertoo tauluon muodon (rivit, sarakkeet).\n",
    "\n",
    "aallot.shape\n",
    "\n",
    "# Montako riviä tutkittavanamme on?"
   ]
  },
  {
   "cell_type": "markdown",
   "metadata": {},
   "source": [
    "Kokeillaanpa muuttaa tekstihirviömme helpommin luettavaksi kuvaajaksi."
   ]
  },
  {
   "cell_type": "code",
   "execution_count": null,
   "metadata": {
    "collapsed": true
   },
   "outputs": [],
   "source": [
    "# Tämä kuvantaa yhden vuorokauden. Kokeile huviksesi vaihtaa vuorokaudeksi joku toinen välillä 2011-2015.\n",
    "\n",
    "aallot['June 1 2014'].plot(title=\"Merenpinnan korkeus (m)\")\n",
    "\n",
    "# Löydätkö tietyissä vuorokausissa eroja?"
   ]
  },
  {
   "cell_type": "code",
   "execution_count": null,
   "metadata": {
    "collapsed": true
   },
   "outputs": [],
   "source": [
    "# Mitähän tämä koodi tekee?\n",
    "\n",
    "aallot['Jun 1 2012':'Jun 7 2012'].plot(title=\"Merenpinnan korkeus (m)\")\n",
    "\n",
    "# Kokeile muutella päivämääriä. Huomaatko mitään tunnistettavia tai toistuvia kuvioita? Onko niitä yksi vai useampia?"
   ]
  },
  {
   "cell_type": "markdown",
   "metadata": {},
   "source": [
    "Nämä tulokset ovat Australiasta. Miten luulisit niiden eroavan eri puolilla maapalloa?"
   ]
  },
  {
   "cell_type": "markdown",
   "metadata": {},
   "source": [
    "## Suomalaista liikennettä"
   ]
  },
  {
   "cell_type": "markdown",
   "metadata": {},
   "source": [
    "Niin sanottujen peltipoliisien eli liikennekameroiden ohella Suomessa kerätään liikennetietoja myös automatisoiduilla induktiosilmukoilla, jotka on upotettu tiehen tunnistamaan päältä ajavat autot sähkömagneettisten kenttien muutoksista. Näitä pisteitä on noin 500 ja niistä voi lukea lisää [täältä](https://www.liikennevirasto.fi/avoindata/tietoaineistot/lam-tiedot#.WkfWo3mYNaQ). Tietoja annetaan vapaaseen jakoon joka päivä ja niitä löytyy ainakin vuoteen 1995 asti."
   ]
  },
  {
   "cell_type": "code",
   "execution_count": null,
   "metadata": {
    "collapsed": true
   },
   "outputs": [],
   "source": [
    "# Luetaanpa taas yksi setti käyttöön vuoden 2016 ensimmäiseltä päivältä eräällä pisteellä Pohjois-Savosta.\n",
    "# Tässä käytettiin nyt read_table -komentoa eikä vain read_csv:tä, sillä Liikennevirasto on käyttänyt \n",
    "# jakomerkkinään hassuja puolipisteitä. Kokeile huviksesi ottaa kommentti pois tästä ja vilkaise, miltä data\n",
    "# näyttää:\n",
    "\n",
    "# liikenne = pd.read_csv('lamraw_526_16_1.csv')\n",
    "\n",
    "liikenne = pd.read_table('lamraw_526_16_1.csv', sep=';', encoding = \"ISO-8859-1\")\n"
   ]
  },
  {
   "cell_type": "code",
   "execution_count": null,
   "metadata": {
    "collapsed": true
   },
   "outputs": [],
   "source": [
    "# Katsotaas datan kokoa\n",
    "\n",
    "liikenne.shape\n",
    "\n",
    "# Kirjoitapa tähän taas komento, jolla voit tarkastella datan ensimmäisiä rivejä."
   ]
  },
  {
   "cell_type": "markdown",
   "metadata": {},
   "source": [
    "Olipahan selkeää, onneksi aiemmin linkatulla liikenneviraston sivulla sentään löytyy selite kullekin luvulle."
   ]
  },
  {
   "cell_type": "code",
   "execution_count": null,
   "metadata": {
    "collapsed": true
   },
   "outputs": [],
   "source": [
    "# Erotellaan datasta uusi setti, joka käsittelee vain liikenteen nopeuksia tuona päivänä.\n",
    "# Käytetty tapa on ruma ja laiska, pyrkikää käyttämään oikeita otsikoita. Toisaalta, onpahan autenttista.\n",
    "\n",
    "nopeudet = liikenne['87']"
   ]
  },
  {
   "cell_type": "markdown",
   "metadata": {},
   "source": [
    "Koitahan sitten piirtää aiemman harjoitteen tavoin histogrammi tuon uudenvuoden liikenteestä."
   ]
  },
  {
   "cell_type": "code",
   "execution_count": null,
   "metadata": {
    "collapsed": true
   },
   "outputs": [],
   "source": [
    "# Koodaa tähän! Tarvitset ainakin histogrammin komennot ja kuvaajan selitteet. "
   ]
  },
  {
   "cell_type": "markdown",
   "metadata": {},
   "source": [
    "Jos heittää arvauksen, että mittapaikalla 526 suurin sallittu ajonopeus olisi ollut 100 km/h, kuinka suuri osa olisi ajanut ylinopeutta? Kokeillaanpa vähän pätkiä dataamme."
   ]
  },
  {
   "cell_type": "code",
   "execution_count": null,
   "metadata": {},
   "outputs": [],
   "source": [
    "# Otetaan nopeuksista talteen ne, jotka ylittävät rajan.\n",
    "\n",
    "ylinopeudet = nopeudet[nopeudet>100]\n",
    "\n",
    "# Kirjoita tähän komento, joka selvittää kuinka monta tulosta ylinopeudet-muuttujassa on ja vertaa sitä nopeuksien määrään.\n",
    "# Voit kokeilla myös sovittaa tekemäsi erotuksen omaan histogrammiinsa ja tutkia, ajavatko kaahailijat rajan tuntumassa\n",
    "# vai reippaasti kovempaa."
   ]
  },
  {
   "cell_type": "markdown",
   "metadata": {},
   "source": [
    "Kokeilehan vielä laittaa molemmat näkyviin samaan kuvaan. Leikkaa ylinopeuksien osuus pois muuttujasta 'nopeudet' hieman äskeiseen tyyliin."
   ]
  },
  {
   "cell_type": "code",
   "execution_count": null,
   "metadata": {
    "collapsed": true
   },
   "outputs": [],
   "source": [
    "# Koodaa tähän! Tarvitset ainakin histogrammin komennot ja kuvaajan selitteet, mutta niiden lisäksi anna histogrammeille\n",
    "# muuttujana myös label='sallittu/ylinopeus'. Lisää koodiin myös alla oleva pätkä.\n",
    "\n",
    "plt.legend (loc='upper right')"
   ]
  },
  {
   "cell_type": "markdown",
   "metadata": {},
   "source": [
    " "
   ]
  },
  {
   "cell_type": "markdown",
   "metadata": {},
   "source": [
    "Mainiota! Olet nyt päässyt kokeilemaan muutamia tapoja puuhastella avoimen datan kanssa kuin ammattimainen tieteentekijä. Tästä on hyvä jatkaa omillaankin, muista että internet on pullollaan kiinnostavia lähteitä.\n",
    "\n",
    "Esimerkiksi suomalainen www.avoindata.fi , CERN:in CMS-harjoitepankki http://opendata.web.cern.ch/docs/cms-guide-for-education tai vaikkapa amerikkalainen maanjäristysvalvomo http://earthquake.usgs.gov/ ovat suoranaisia datakaivoksia. Python-kielelle taas löytyy paljon opetus- ja tukisivustoja, kuten www.codeacademy.com .\n",
    "\n",
    "Antoisaa näpertelyä!"
   ]
  }
 ],
 "metadata": {
  "kernelspec": {
   "display_name": "Python 3",
   "language": "python",
   "name": "python3"
  },
  "language_info": {
   "codemirror_mode": {
    "name": "ipython",
    "version": 3
   },
   "file_extension": ".py",
   "mimetype": "text/x-python",
   "name": "python",
   "nbconvert_exporter": "python",
   "pygments_lexer": "ipython3",
   "version": "3.6.3"
  }
 },
 "nbformat": 4,
 "nbformat_minor": 2
}
